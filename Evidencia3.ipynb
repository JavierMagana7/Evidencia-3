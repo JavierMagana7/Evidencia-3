{
  "nbformat": 4,
  "nbformat_minor": 0,
  "metadata": {
    "colab": {
      "provenance": []
    },
    "kernelspec": {
      "name": "python3",
      "display_name": "Python 3"
    },
    "language_info": {
      "name": "python"
    }
  },
  "cells": [
    {
      "cell_type": "code",
      "execution_count": 1,
      "metadata": {
        "colab": {
          "base_uri": "https://localhost:8080/"
        },
        "id": "I9785VjqU4uB",
        "outputId": "e2555589-c2bd-4a46-8034-942920cfdb41"
      },
      "outputs": [
        {
          "output_type": "stream",
          "name": "stdout",
          "text": [
            "Objeto serializado y almacenado en persona.pkl\n",
            "Objeto original: Persona(nombre=Ana, edad=30)\n",
            "Objeto recuperado: Persona(nombre=Ana, edad=30)\n"
          ]
        }
      ],
      "source": [
        "import pickle\n",
        "\n",
        "# Definir una clase simple para demostrar la serialización\n",
        "class Persona:\n",
        "    def __init__(self, nombre, edad):\n",
        "        self.nombre = nombre\n",
        "        self.edad = edad\n",
        "\n",
        "    def __str__(self):\n",
        "        return f\"Persona(nombre={self.nombre}, edad={self.edad})\"\n",
        "\n",
        "# Crear una instancia de la clase Persona\n",
        "persona_original = Persona(nombre=\"Ana\", edad=30)\n",
        "\n",
        "# Serializar el objeto y almacenarlo en un archivo pickle\n",
        "archivo_pickle = \"persona.pkl\"\n",
        "\n",
        "with open(archivo_pickle, \"wb\") as archivo:\n",
        "    pickle.dump(persona_original, archivo)\n",
        "\n",
        "# Mostrar mensaje de confirmación\n",
        "print(f\"Objeto serializado y almacenado en {archivo_pickle}\")\n",
        "\n",
        "# Recuperar el contenido del archivo y deserializarlo para obtener el objeto original\n",
        "with open(archivo_pickle, \"rb\") as archivo:\n",
        "    persona_recuperada = pickle.load(archivo)\n",
        "\n",
        "# Mostrar el objeto original y el objeto recuperado\n",
        "print(\"Objeto original:\", persona_original)\n",
        "print(\"Objeto recuperado:\", persona_recuperada)\n"
      ]
    }
  ]
}